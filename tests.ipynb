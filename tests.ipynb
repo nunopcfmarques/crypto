{
 "cells": [
  {
   "cell_type": "code",
   "execution_count": 3,
   "metadata": {},
   "outputs": [],
   "source": [
    "from symCrypto import symCrypto\n",
    "from utils import letter_converter"
   ]
  },
  {
   "cell_type": "code",
   "execution_count": 4,
   "metadata": {},
   "outputs": [
    {
     "name": "stdout",
     "output_type": "stream",
     "text": [
      "byffinbcmcmgsxia\n",
      "hellothisismydog\n"
     ]
    }
   ],
   "source": [
    "Z26 = set(range(26))\n",
    "enc = lambda key, plaintext : (plaintext + key) % 26\n",
    "dec = lambda key, ciphertext : (ciphertext - key) % 26\n",
    "CaeserKey = 20\n",
    "ShiftCipher = symCrypto.SymCryptoSystem(Z26, Z26, Z26, enc, dec)\n",
    "\n",
    "plaintext = \"Hellothisismydog\"\n",
    "plaintext_to_numbers = letter_converter.string_to_numbers(plaintext)\n",
    "\n",
    "ciphertext = [ShiftCipher.encrypt(CaeserKey, x) for x in plaintext_to_numbers]\n",
    "ciphertext_to_letters = letter_converter.numbers_to_string(ciphertext)\n",
    "print(ciphertext_to_letters)\n",
    "decrypted_ciphertext = [ShiftCipher.decrypt(CaeserKey, y) for y in ciphertext]\n",
    "decrypted_ciphertext_to_letters = letter_converter.numbers_to_string(decrypted_ciphertext)\n",
    "print(decrypted_ciphertext_to_letters)"
   ]
  }
 ],
 "metadata": {
  "kernelspec": {
   "display_name": "Python 3",
   "language": "python",
   "name": "python3"
  },
  "language_info": {
   "codemirror_mode": {
    "name": "ipython",
    "version": 3
   },
   "file_extension": ".py",
   "mimetype": "text/x-python",
   "name": "python",
   "nbconvert_exporter": "python",
   "pygments_lexer": "ipython3",
   "version": "3.10.12"
  }
 },
 "nbformat": 4,
 "nbformat_minor": 2
}
